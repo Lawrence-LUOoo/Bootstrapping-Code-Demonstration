{
 "cells": [
  {
   "cell_type": "code",
   "execution_count": 1,
   "id": "bd5b6a6f",
   "metadata": {},
   "outputs": [],
   "source": [
    "import numpy as np\n",
    "import matplotlib.pyplot as plt"
   ]
  },
  {
   "cell_type": "code",
   "execution_count": 2,
   "id": "4e2ce170",
   "metadata": {},
   "outputs": [],
   "source": [
    "from scipy.stats import f"
   ]
  },
  {
   "cell_type": "markdown",
   "id": "47219ff8",
   "metadata": {},
   "source": [
    "## Generate a \"population\" of samples"
   ]
  },
  {
   "cell_type": "markdown",
   "id": "1ec558b2",
   "metadata": {},
   "source": [
    "Let's generate 100 samples from F-distribution each having 1000 points"
   ]
  },
  {
   "cell_type": "code",
   "execution_count": 64,
   "id": "39254f93",
   "metadata": {},
   "outputs": [],
   "source": [
    "dfnum = 5\n",
    "dfden = 200\n",
    "original_samples = [np.random.f(dfnum, dfden, 10000) for i in range (1000)]"
   ]
  },
  {
   "cell_type": "markdown",
   "id": "d1a31412",
   "metadata": {},
   "source": [
    "Let's plot a histogram of one of the samples to check if it makes sense"
   ]
  },
  {
   "cell_type": "code",
   "execution_count": 65,
   "id": "1d5f23c3",
   "metadata": {},
   "outputs": [
    {
     "data": {
      "image/png": "[encoded data removed]",
      "text/plain": [
       "<Figure size 432x288 with 1 Axes>"
      ]
     },
     "metadata": {
      "needs_background": "light"
     },
     "output_type": "display_data"
    }
   ],
   "source": [
    "plt.hist(original_samples[0], bins=200);"
   ]
  },
  {
   "cell_type": "code",
   "execution_count": 66,
   "id": "1ae795ca",
   "metadata": {},
   "outputs": [
    {
     "data": {
      "text/plain": [
       "0.8704625802849024"
      ]
     },
     "execution_count": 66,
     "metadata": {},
     "output_type": "execute_result"
    }
   ],
   "source": [
    "np.median(original_samples[0])"
   ]
  },
  {
   "cell_type": "markdown",
   "id": "49e0c640",
   "metadata": {},
   "source": [
    "Each sample is a set of 1000 points taken from F-distribution. So each sample will have its own mean, median, mode, std dev, etc. Let's plot the distribution of the sample median for all 100 samples"
   ]
  },
  {
   "cell_type": "code",
   "execution_count": 67,
   "id": "e8e71d94",
   "metadata": {},
   "outputs": [
    {
     "data": {
      "image/png": "[encoded data removed]",
      "text/plain": [
       "<Figure size 432x288 with 1 Axes>"
      ]
     },
     "metadata": {
      "needs_background": "light"
     },
     "output_type": "display_data"
    }
   ],
   "source": [
    "sample_medians = [np.median(sample) for sample in original_samples]\n",
    "plt.hist(sample_medians, bins=200);"
   ]
  },
  {
   "cell_type": "markdown",
   "id": "87bab58f",
   "metadata": {},
   "source": [
    "## Simulate population from a single sample "
   ]
  },
  {
   "cell_type": "markdown",
   "id": "cce5b036",
   "metadata": {},
   "source": [
    "But what if we didn't have access to 10,000 samples like here? Let's simulate 10000 samples from a single sample."
   ]
  },
  {
   "cell_type": "code",
   "execution_count": 68,
   "id": "f4beac3c",
   "metadata": {},
   "outputs": [],
   "source": [
    "small_sample = original_samples[35]\n",
    "simulated_samples = [np.random.choice(small_sample, size=(1000), replace=True) for i in range(10000)]"
   ]
  },
  {
   "cell_type": "code",
   "execution_count": 69,
   "id": "85211758",
   "metadata": {},
   "outputs": [
    {
     "data": {
      "image/png": "[encoded data removed]",
      "text/plain": [
       "<Figure size 432x288 with 1 Axes>"
      ]
     },
     "metadata": {
      "needs_background": "light"
     },
     "output_type": "display_data"
    }
   ],
   "source": [
    "simulated_sample_medians = [np.median(sample) for sample in simulated_samples]\n",
    "plt.hist(simulated_sample_medians, bins=200);"
   ]
  },
  {
   "cell_type": "code",
   "execution_count": null,
   "id": "c280012a",
   "metadata": {},
   "outputs": [],
   "source": []
  }
 ],
 "metadata": {
  "kernelspec": {
   "display_name": "Python 3 (ipykernel)",
   "language": "python",
   "name": "python3"
  },
  "language_info": {
   "codemirror_mode": {
    "name": "ipython",
    "version": 3
   },
   "file_extension": ".py",
   "mimetype": "text/x-python",
   "name": "python",
   "nbconvert_exporter": "python",
   "pygments_lexer": "ipython3",
   "version": "3.8.11"
  }
 },
 "nbformat": 4,
 "nbformat_minor": 5
}
