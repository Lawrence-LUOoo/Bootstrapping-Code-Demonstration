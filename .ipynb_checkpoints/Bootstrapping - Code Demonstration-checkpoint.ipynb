{
 "cells": [
  {
   "cell_type": "markdown",
   "id": "50eb5ab5",
   "metadata": {},
   "source": [
    "### Bootstrapping - Code Demonstration"
   ]
  },
  {
   "cell_type": "code",
   "execution_count": 2,
   "id": "a3306071",
   "metadata": {},
   "outputs": [],
   "source": [
    "# import libraries\n",
    "import numpy as np \n",
    "import matplotlib.pyplot as plt"
   ]
  },
  {
   "cell_type": "markdown",
   "id": "5161d123",
   "metadata": {},
   "source": [
    "#### # step 1: simulate population distribution"
   ]
  },
  {
   "cell_type": "code",
   "execution_count": 17,
   "id": "4285e9b8",
   "metadata": {},
   "outputs": [
    {
     "data": {
      "text/plain": [
       "array([209, 226, 166, ..., 197, 175, 121])"
      ]
     },
     "execution_count": 17,
     "metadata": {},
     "output_type": "execute_result"
    }
   ],
   "source": [
    "# to set seed for consistency and simulated population distribution\n",
    "\n",
    "np.random.seed(123)\n",
    "population_data = np.random.randint(100, 240, size=500000)\n",
    "population_data\n"
   ]
  },
  {
   "cell_type": "code",
   "execution_count": 19,
   "id": "4a1e5a26",
   "metadata": {},
   "outputs": [
    {
     "name": "stdout",
     "output_type": "stream",
     "text": [
      "Mean of population: 169.633012\n"
     ]
    }
   ],
   "source": [
    "# population mean\n",
    "\n",
    "population_mean = np.mean(population_data)\n",
    "print('Mean of population:', population_mean)"
   ]
  },
  {
   "cell_type": "markdown",
   "id": "c89bd04f",
   "metadata": {},
   "source": [
    "### Goal: We are going to estimate the mean of populuation data using two different approach"
   ]
  },
  {
   "cell_type": "markdown",
   "id": "b3b550cc",
   "metadata": {},
   "source": [
    "### Sampling distribution"
   ]
  },
  {
   "cell_type": "markdown",
   "id": "59610d35",
   "metadata": {},
   "source": [
    "#### 2. draw samples from population for 10000 times"
   ]
  },
  {
   "cell_type": "code",
   "execution_count": 20,
   "id": "eed6a36d",
   "metadata": {},
   "outputs": [],
   "source": [
    "sampling_means = []\n",
    "for _ in range(10000):\n",
    "    # take a random sample each iteration from population\n",
    "    sampling_sample = np.random.choice(population_data,\n",
    "                                        replace=True,\n",
    "                                        size=1000)\n",
    "    # calculate the mean for each iteration\n",
    "    sampling_mean = np.mean(sampling_sample)\n",
    "    # append the mean to sampling_means\n",
    "    sampling_means.append(sampling_mean)"
   ]
  },
  {
   "cell_type": "code",
   "execution_count": 6,
   "id": "4cc765fa",
   "metadata": {},
   "outputs": [
    {
     "data": {
      "text/plain": [
       "array([169.127, 168.517, 168.774, ..., 168.979, 168.197, 169.136])"
      ]
     },
     "execution_count": 6,
     "metadata": {},
     "output_type": "execute_result"
    }
   ],
   "source": [
    "sampling_means_np = np.array(sampling_means)\n",
    "sampling_means_np"
   ]
  },
  {
   "cell_type": "code",
   "execution_count": 21,
   "id": "28ff2592",
   "metadata": {},
   "outputs": [
    {
     "name": "stdout",
     "output_type": "stream",
     "text": [
      "Mean of sampling distribution : 169.6452429\n",
      "Mean of population: 169.633012\n"
     ]
    }
   ],
   "source": [
    "sampling_dist_means = np.mean(sampling_means_np)\n",
    "print('Mean of sampling distribution :', sampling_dist_means)\n",
    "print('Mean of population:', population_mean)"
   ]
  },
  {
   "cell_type": "code",
   "execution_count": 23,
   "id": "1ad19a78",
   "metadata": {},
   "outputs": [
    {
     "data": {
      "text/plain": [
       "array([167.16685 , 172.148125])"
      ]
     },
     "execution_count": 23,
     "metadata": {},
     "output_type": "execute_result"
    }
   ],
   "source": [
    "# 95% C.I.\n",
    "\n",
    "np.percentile(sampling_means_np, [2.5, 97.5])"
   ]
  },
  {
   "cell_type": "markdown",
   "id": "a043a60e",
   "metadata": {},
   "source": [
    "#### step 3: analysis and interpretation "
   ]
  },
  {
   "cell_type": "code",
   "execution_count": 24,
   "id": "310592db",
   "metadata": {},
   "outputs": [
    {
     "data": {
      "image/png": "[encoded data removed]",
      "text/plain": [
       "<Figure size 432x288 with 1 Axes>"
      ]
     },
     "metadata": {
      "needs_background": "light"
     },
     "output_type": "display_data"
    }
   ],
   "source": [
    "plt.hist(sampling_means_np, alpha=1)\n",
    "plt.axvline(np.percentile(sampling_means_np, 2.5), color='red', linewidth=2)\n",
    "plt.axvline(np.percentile(sampling_means_np, 97.5), color='red', linewidth=2)\n",
    "plt.show()"
   ]
  },
  {
   "cell_type": "markdown",
   "id": "b14eea8c",
   "metadata": {},
   "source": [
    "### Bootstrapping"
   ]
  },
  {
   "cell_type": "markdown",
   "id": "0b3bfe0e",
   "metadata": {},
   "source": [
    "#### step 2: take a random sample from the population"
   ]
  },
  {
   "cell_type": "code",
   "execution_count": 28,
   "id": "98c88d33",
   "metadata": {},
   "outputs": [],
   "source": [
    "original_sample_data = np.random.choice(population_data, size=1000)"
   ]
  },
  {
   "cell_type": "markdown",
   "id": "414d0093",
   "metadata": {},
   "source": [
    "#### step 3: bootstrap for 10,000 times"
   ]
  },
  {
   "cell_type": "code",
   "execution_count": 29,
   "id": "da855e61",
   "metadata": {},
   "outputs": [],
   "source": [
    "bootstrap_means = []\n",
    "for _ in range(10000):\n",
    "    # take a random sample each iteration\n",
    "    bootstrap_sample = np.random.choice(original_sample_data,\n",
    "                                        replace=True,\n",
    "                                        size=1000)\n",
    "    # calculate the mean for each iteration\n",
    "    bootstrap_mean = np.mean(bootstrap_sample)\n",
    "    # append the mean to boot_means\n",
    "    bootstrap_means.append(bootstrap_mean)\n"
   ]
  },
  {
   "cell_type": "code",
   "execution_count": 30,
   "id": "123f5636",
   "metadata": {},
   "outputs": [
    {
     "data": {
      "text/plain": [
       "array([167.599, 172.718, 171.92 , ..., 170.003, 171.237, 171.286])"
      ]
     },
     "execution_count": 30,
     "metadata": {},
     "output_type": "execute_result"
    }
   ],
   "source": [
    "# transform it into a numpy array for calculation\n",
    "\n",
    "bootstrap_means_np = np.array(bootstrap_means)\n",
    "bootstrap_means_np\n"
   ]
  },
  {
   "cell_type": "markdown",
   "id": "3496de11",
   "metadata": {},
   "source": [
    "#### step 4: analysis and interpretation "
   ]
  },
  {
   "cell_type": "code",
   "execution_count": 31,
   "id": "904733ed",
   "metadata": {},
   "outputs": [
    {
     "data": {
      "text/plain": [
       "170.5693359"
      ]
     },
     "execution_count": 31,
     "metadata": {},
     "output_type": "execute_result"
    }
   ],
   "source": [
    "# bootstrapped sample means\n",
    "\n",
    "boot_means = np.mean(bootstrap_means_np)\n",
    "boot_means\n"
   ]
  },
  {
   "cell_type": "code",
   "execution_count": 32,
   "id": "6a9ac565",
   "metadata": {},
   "outputs": [
    {
     "data": {
      "text/plain": [
       "169.633012"
      ]
     },
     "execution_count": 32,
     "metadata": {},
     "output_type": "execute_result"
    }
   ],
   "source": [
    "# recall: true population mean\n",
    "\n",
    "np.mean(population_data)\n"
   ]
  },
  {
   "cell_type": "code",
   "execution_count": 33,
   "id": "45185c41",
   "metadata": {},
   "outputs": [
    {
     "data": {
      "text/plain": [
       "array([168.11195, 173.095  ])"
      ]
     },
     "execution_count": 33,
     "metadata": {},
     "output_type": "execute_result"
    }
   ],
   "source": [
    "# 95% C.I.\n",
    "\n",
    "np.percentile(bootstrap_means_np, [2.5, 97.5])\n"
   ]
  },
  {
   "cell_type": "markdown",
   "id": "c5a7facc",
   "metadata": {},
   "source": [
    "#### Distribution and C.I. in Graph:"
   ]
  },
  {
   "cell_type": "code",
   "execution_count": 34,
   "id": "e15e444d",
   "metadata": {},
   "outputs": [
    {
     "data": {
      "image/png": "[encoded data removed]",
      "text/plain": [
       "<Figure size 432x288 with 1 Axes>"
      ]
     },
     "metadata": {
      "needs_background": "light"
     },
     "output_type": "display_data"
    }
   ],
   "source": [
    "plt.hist(bootstrap_means_np, alpha=1)\n",
    "plt.axvline(np.percentile(bootstrap_means_np, 2.5), color='red', linewidth=2)\n",
    "plt.axvline(np.percentile(bootstrap_means_np, 97.5), color='red', linewidth=2)\n",
    "plt.show()\n"
   ]
  },
  {
   "cell_type": "markdown",
   "id": "ce181ae5",
   "metadata": {},
   "source": [
    "Both methods using sampling with replacements, "
   ]
  },
  {
   "cell_type": "markdown",
   "id": "d1779af4",
   "metadata": {},
   "source": [
    "<img style=\"float: left;\" src=\"img/sampling.png\">"
   ]
  },
  {
   "cell_type": "markdown",
   "id": "975ef0b2",
   "metadata": {},
   "source": [
    "However, We may not always be able to obtain a large enough sample. In these situations, we can use bootstrapping. Bootstrapping in statistics means sampling with replacement and it allows us to simulate the creation of sampling distribution. By bootstrapping and then calculating the repeated values of our statistics, we can gain an understanding of the sampling distribution of our statistics."
   ]
  }
 ],
 "metadata": {
  "kernelspec": {
   "display_name": "Python 3",
   "language": "python",
   "name": "python3"
  },
  "language_info": {
   "codemirror_mode": {
    "name": "ipython",
    "version": 3
   },
   "file_extension": ".py",
   "mimetype": "text/x-python",
   "name": "python",
   "nbconvert_exporter": "python",
   "pygments_lexer": "ipython3",
   "version": "3.8.8"
  }
 },
 "nbformat": 4,
 "nbformat_minor": 5
}
