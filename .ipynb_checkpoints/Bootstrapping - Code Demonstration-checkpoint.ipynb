{
 "cells": [
  {
   "cell_type": "markdown",
   "id": "50eb5ab5",
   "metadata": {},
   "source": [
    "### Bootstrapping - Code Demonstration"
   ]
  },
  {
   "cell_type": "code",
   "execution_count": 2,
   "id": "a3306071",
   "metadata": {},
   "outputs": [],
   "source": [
    "# import libraries\n",
    "import numpy as np \n",
    "import matplotlib.pyplot as plt"
   ]
  },
  {
   "cell_type": "markdown",
   "id": "5161d123",
   "metadata": {},
   "source": [
    "#### simulate population distribution"
   ]
  },
  {
   "cell_type": "code",
   "execution_count": 17,
   "id": "4285e9b8",
   "metadata": {},
   "outputs": [
    {
     "data": {
      "text/plain": [
       "array([209, 226, 166, ..., 197, 175, 121])"
      ]
     },
     "execution_count": 17,
     "metadata": {},
     "output_type": "execute_result"
    }
   ],
   "source": [
    "# to set seed for consistency and simulated population distribution\n",
    "\n",
    "np.random.seed(123)\n",
    "population_data = np.random.randint(100, 240, size=500000)\n",
    "population_data\n"
   ]
  },
  {
   "cell_type": "code",
   "execution_count": 36,
   "id": "4a1e5a26",
   "metadata": {},
   "outputs": [
    {
     "name": "stdout",
     "output_type": "stream",
     "text": [
      "Mean of population: 169.633012\n"
     ]
    }
   ],
   "source": [
    "# population mean\n",
    "\n",
    "population_mean = np.mean(population_data)\n",
    "print('Mean of population:', population_mean)"
   ]
  },
  {
   "cell_type": "markdown",
   "id": "f6d2c575",
   "metadata": {},
   "source": [
    "### Goal: We are going to estimate the mean of populuation data using two different approachs"
   ]
  },
  {
   "cell_type": "markdown",
   "id": "23770424",
   "metadata": {},
   "source": [
    "### Sampling distribution"
   ]
  },
  {
   "cell_type": "markdown",
   "id": "1a84d60a",
   "metadata": {},
   "source": [
    "#### setp 1. draw samples from population for 10000 times"
   ]
  },
  {
   "cell_type": "code",
   "execution_count": 39,
   "id": "38d101d7",
   "metadata": {},
   "outputs": [],
   "source": [
    "sampling_means = []\n",
    "for _ in range(10000):\n",
    "    # take a random sample each iteration from population\n",
    "    sampling_sample = np.random.choice(population_data,\n",
    "                                        replace=True,\n",
    "                                        size=1000)\n",
    "    # calculate the mean for each iteration\n",
    "    sampling_mean = np.mean(sampling_sample)\n",
    "    # append the mean to sampling_means\n",
    "    sampling_means.append(sampling_mean)"
   ]
  },
  {
   "cell_type": "markdown",
   "id": "4354431d",
   "metadata": {},
   "source": [
    "#### step 2: analysis and interpretation "
   ]
  },
  {
   "cell_type": "code",
   "execution_count": 41,
   "id": "43d26dcf",
   "metadata": {},
   "outputs": [
    {
     "data": {
      "text/plain": [
       "array([167.147, 172.124])"
      ]
     },
     "execution_count": 41,
     "metadata": {},
     "output_type": "execute_result"
    }
   ],
   "source": [
    "# 95% C.I.\n",
    "\n",
    "np.percentile(sampling_means, [2.5, 97.5])"
   ]
  },
  {
   "cell_type": "code",
   "execution_count": 43,
   "id": "c21d2f96",
   "metadata": {},
   "outputs": [
    {
     "data": {
      "image/png": "[encoded data removed]",
      "text/plain": [
       "<Figure size 432x288 with 1 Axes>"
      ]
     },
     "metadata": {
      "needs_background": "light"
     },
     "output_type": "display_data"
    }
   ],
   "source": [
    "plt.hist(sampling_means, alpha=1)\n",
    "plt.axvline(np.percentile(sampling_means, 2.5), color='red', linewidth=2)\n",
    "plt.axvline(np.percentile(sampling_means, 97.5), color='red', linewidth=2)\n",
    "plt.show()"
   ]
  },
  {
   "cell_type": "code",
   "execution_count": 40,
   "id": "13ea436e",
   "metadata": {},
   "outputs": [
    {
     "name": "stdout",
     "output_type": "stream",
     "text": [
      "Mean of sampling distribution : 169.6269193\n",
      "Mean of population: 169.633012\n"
     ]
    }
   ],
   "source": [
    "sampling_dist_means = np.mean(sampling_means_np)\n",
    "print('Mean of sampling distribution :', sampling_dist_means)\n",
    "print('Mean of population:', population_mean)"
   ]
  },
  {
   "cell_type": "markdown",
   "id": "bbc10534",
   "metadata": {},
   "source": [
    "### Bootstrapping"
   ]
  },
  {
   "cell_type": "markdown",
   "id": "0b3bfe0e",
   "metadata": {},
   "source": [
    "#### step 1: take a random sample from the population"
   ]
  },
  {
   "cell_type": "code",
   "execution_count": 45,
   "id": "98c88d33",
   "metadata": {},
   "outputs": [],
   "source": [
    "original_sample_data = np.random.choice(population_data, size=1000)"
   ]
  },
  {
   "cell_type": "markdown",
   "id": "414d0093",
   "metadata": {},
   "source": [
    "#### step 2: bootstrap for 10,000 times"
   ]
  },
  {
   "cell_type": "code",
   "execution_count": 46,
   "id": "da855e61",
   "metadata": {},
   "outputs": [],
   "source": [
    "bootstrap_means = []\n",
    "for _ in range(10000):\n",
    "    # take a random sample each iteration\n",
    "    bootstrap_sample = np.random.choice(original_sample_data,\n",
    "                                        replace=True,\n",
    "                                        size=1000)\n",
    "    # calculate the mean for each iteration\n",
    "    bootstrap_mean = np.mean(bootstrap_sample)\n",
    "    # append the mean to boot_means\n",
    "    bootstrap_means.append(bootstrap_mean)\n"
   ]
  },
  {
   "cell_type": "markdown",
   "id": "3496de11",
   "metadata": {},
   "source": [
    "#### step 3: analysis and interpretation "
   ]
  },
  {
   "cell_type": "code",
   "execution_count": 47,
   "id": "45185c41",
   "metadata": {},
   "outputs": [
    {
     "data": {
      "text/plain": [
       "array([167.421975, 172.515025])"
      ]
     },
     "execution_count": 47,
     "metadata": {},
     "output_type": "execute_result"
    }
   ],
   "source": [
    "# 95% C.I.\n",
    "\n",
    "np.percentile(bootstrap_means, [2.5, 97.5])\n"
   ]
  },
  {
   "cell_type": "code",
   "execution_count": 48,
   "id": "e15e444d",
   "metadata": {},
   "outputs": [
    {
     "data": {
      "image/png": "[encoded data removed]",
      "text/plain": [
       "<Figure size 432x288 with 1 Axes>"
      ]
     },
     "metadata": {
      "needs_background": "light"
     },
     "output_type": "display_data"
    }
   ],
   "source": [
    "plt.hist(bootstrap_means, alpha=1)\n",
    "plt.axvline(np.percentile(bootstrap_means, 2.5), color='red', linewidth=2)\n",
    "plt.axvline(np.percentile(bootstrap_means, 97.5), color='red', linewidth=2)\n",
    "plt.show()\n"
   ]
  },
  {
   "cell_type": "code",
   "execution_count": 50,
   "id": "d8bd6d9e",
   "metadata": {},
   "outputs": [
    {
     "name": "stdout",
     "output_type": "stream",
     "text": [
      "Mean of bootstrapping : 169.98715159999998\n",
      "Mean of population: 169.633012\n"
     ]
    }
   ],
   "source": [
    "boot_mean = np.mean(bootstrap_means)\n",
    "print('Mean of bootstrapping :', boot_mean)\n",
    "print('Mean of population:', population_mean)"
   ]
  }
 ],
 "metadata": {
  "kernelspec": {
   "display_name": "Python 3",
   "language": "python",
   "name": "python3"
  },
  "language_info": {
   "codemirror_mode": {
    "name": "ipython",
    "version": 3
   },
   "file_extension": ".py",
   "mimetype": "text/x-python",
   "name": "python",
   "nbconvert_exporter": "python",
   "pygments_lexer": "ipython3",
   "version": "3.8.8"
  }
 },
 "nbformat": 4,
 "nbformat_minor": 5
}
