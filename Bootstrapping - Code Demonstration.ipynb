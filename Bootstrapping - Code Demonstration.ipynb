{
 "cells": [
  {
   "cell_type": "markdown",
   "id": "50eb5ab5",
   "metadata": {},
   "source": [
    "### Bootstrapping - Code Demonstration"
   ]
  },
  {
   "cell_type": "code",
   "execution_count": 2,
   "id": "a3306071",
   "metadata": {},
   "outputs": [],
   "source": [
    "# import libraries\n",
    "import numpy as np \n",
    "import matplotlib.pyplot as plt"
   ]
  },
  {
   "cell_type": "markdown",
   "id": "5161d123",
   "metadata": {},
   "source": [
    "#### # step 1: simulate population distribution"
   ]
  },
  {
   "cell_type": "code",
   "execution_count": 3,
   "id": "4285e9b8",
   "metadata": {},
   "outputs": [
    {
     "data": {
      "text/plain": [
       "array([209, 226, 166, ..., 197, 175, 121])"
      ]
     },
     "execution_count": 3,
     "metadata": {},
     "output_type": "execute_result"
    }
   ],
   "source": [
    "# to set seed for consistency and simulated population distribution\n",
    "\n",
    "np.random.seed(123)\n",
    "population_data = np.random.randint(100, 240, size=500000)\n",
    "population_data\n"
   ]
  },
  {
   "cell_type": "code",
   "execution_count": 4,
   "id": "4a1e5a26",
   "metadata": {},
   "outputs": [
    {
     "data": {
      "text/plain": [
       "169.633012"
      ]
     },
     "execution_count": 4,
     "metadata": {},
     "output_type": "execute_result"
    }
   ],
   "source": [
    "# population mean\n",
    "\n",
    "np.mean(population_data)\n"
   ]
  },
  {
   "cell_type": "markdown",
   "id": "0b3bfe0e",
   "metadata": {},
   "source": [
    "#### step 2: take a random sample from the population"
   ]
  },
  {
   "cell_type": "code",
   "execution_count": 10,
   "id": "98c88d33",
   "metadata": {},
   "outputs": [],
   "source": [
    "original_sample_data = np.random.choice(population_data, size=1000)\n"
   ]
  },
  {
   "cell_type": "markdown",
   "id": "414d0093",
   "metadata": {},
   "source": [
    "#### step 3: bootstrap for 10,000 times"
   ]
  },
  {
   "cell_type": "code",
   "execution_count": 13,
   "id": "da855e61",
   "metadata": {},
   "outputs": [],
   "source": [
    "bootstrap_means = []\n",
    "for _ in range(10000):\n",
    "    # take a random sample each iteration\n",
    "    bootstrap_sample = np.random.choice(original_sample_data,\n",
    "                                        replace=True,\n",
    "                                        size=1000)\n",
    "    # calculate the mean for each iteration\n",
    "    bootstrap_mean = np.mean(bootstrap_sample)\n",
    "    # append the mean to boot_means\n",
    "    bootstrap_means.append(bootstrap_mean)\n"
   ]
  },
  {
   "cell_type": "code",
   "execution_count": 15,
   "id": "123f5636",
   "metadata": {},
   "outputs": [
    {
     "data": {
      "text/plain": [
       "array([169.49 , 169.254, 169.885, ..., 170.075, 167.939, 165.821])"
      ]
     },
     "execution_count": 15,
     "metadata": {},
     "output_type": "execute_result"
    }
   ],
   "source": [
    "# transform it into a numpy array for calculation\n",
    "\n",
    "bootstrap_means_np = np.array(bootstrap_means)\n",
    "bootstrap_means_np\n"
   ]
  },
  {
   "cell_type": "markdown",
   "id": "3496de11",
   "metadata": {},
   "source": [
    "#### step 4: analysis and interpretation "
   ]
  },
  {
   "cell_type": "code",
   "execution_count": 17,
   "id": "904733ed",
   "metadata": {},
   "outputs": [
    {
     "data": {
      "text/plain": [
       "168.51979849999998"
      ]
     },
     "execution_count": 17,
     "metadata": {},
     "output_type": "execute_result"
    }
   ],
   "source": [
    "# bootstrapped sample means\n",
    "\n",
    "boot_means = np.mean(bootstrap_means_np)\n",
    "boot_means\n"
   ]
  },
  {
   "cell_type": "code",
   "execution_count": 18,
   "id": "6a9ac565",
   "metadata": {},
   "outputs": [
    {
     "data": {
      "text/plain": [
       "169.633012"
      ]
     },
     "execution_count": 18,
     "metadata": {},
     "output_type": "execute_result"
    }
   ],
   "source": [
    "# recall: true population mean\n",
    "\n",
    "np.mean(population_data)\n"
   ]
  },
  {
   "cell_type": "code",
   "execution_count": 19,
   "id": "45185c41",
   "metadata": {},
   "outputs": [
    {
     "data": {
      "text/plain": [
       "array([166.007975, 171.016   ])"
      ]
     },
     "execution_count": 19,
     "metadata": {},
     "output_type": "execute_result"
    }
   ],
   "source": [
    "# 95% C.I.\n",
    "\n",
    "np.percentile(bootstrap_means_np, [2.5, 97.5])\n"
   ]
  },
  {
   "cell_type": "markdown",
   "id": "c5a7facc",
   "metadata": {},
   "source": [
    "#### Distribution and C.I. in Graph:"
   ]
  },
  {
   "cell_type": "code",
   "execution_count": 22,
   "id": "e15e444d",
   "metadata": {},
   "outputs": [
    {
     "data": {
      "image/png": "[encoded data removed]",
      "text/plain": [
       "<Figure size 432x288 with 1 Axes>"
      ]
     },
     "metadata": {
      "needs_background": "light"
     },
     "output_type": "display_data"
    }
   ],
   "source": [
    "plt.hist(bootstrap_means_np, alpha=1)\n",
    "plt.axvline(np.percentile(bootstrap_means_np, 2.5), color='red', linewidth=2)\n",
    "plt.axvline(np.percentile(bootstrap_means_np, 97.5), color='red', linewidth=2)\n",
    "plt.show()\n"
   ]
  }
 ],
 "metadata": {
  "kernelspec": {
   "display_name": "Python 3",
   "language": "python",
   "name": "python3"
  },
  "language_info": {
   "codemirror_mode": {
    "name": "ipython",
    "version": 3
   },
   "file_extension": ".py",
   "mimetype": "text/x-python",
   "name": "python",
   "nbconvert_exporter": "python",
   "pygments_lexer": "ipython3",
   "version": "3.8.8"
  }
 },
 "nbformat": 4,
 "nbformat_minor": 5
}
